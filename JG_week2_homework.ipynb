{
 "cells": [
  {
   "cell_type": "markdown",
   "id": "69cf7ace",
   "metadata": {},
   "source": [
    "# Q1. Install MLflow"
   ]
  },
  {
   "cell_type": "code",
   "execution_count": 7,
   "id": "ceb997c9",
   "metadata": {},
   "outputs": [
    {
     "name": "stdout",
     "output_type": "stream",
     "text": [
      "mlflow, version 2.3.2\r\n"
     ]
    }
   ],
   "source": [
    "\n",
    "!mlflow --version"
   ]
  },
  {
   "cell_type": "markdown",
   "id": "c42672b9",
   "metadata": {},
   "source": [
    "> Answer: 2.3.2"
   ]
  },
  {
   "cell_type": "markdown",
   "id": "bd8ea929",
   "metadata": {},
   "source": [
    "# Q2. Download and preprocess the data"
   ]
  },
  {
   "cell_type": "markdown",
   "id": "5f5fc309",
   "metadata": {},
   "source": [
    "(Files already downloaded before I started writing this notebook so I don't include the code here)"
   ]
  },
  {
   "cell_type": "markdown",
   "id": "a64cfc78",
   "metadata": {},
   "source": [
    "What's the size of the saved DictVectorizer file?"
   ]
  },
  {
   "cell_type": "code",
   "execution_count": 8,
   "id": "0d2cbd6b",
   "metadata": {},
   "outputs": [
    {
     "name": "stdout",
     "output_type": "stream",
     "text": [
      "/home/ubuntu/mlops-zoomcamp/cohorts/2023/02-experiment-tracking/homework\r\n"
     ]
    }
   ],
   "source": [
    "!pwd"
   ]
  },
  {
   "cell_type": "code",
   "execution_count": 12,
   "id": "65f19127",
   "metadata": {},
   "outputs": [
    {
     "name": "stdout",
     "output_type": "stream",
     "text": [
      "total 7104\r\n",
      "-rw-rw-r-- 1 ubuntu ubuntu  153660 May 25 10:51 dv.pkl\r\n",
      "-rw-rw-r-- 1 ubuntu ubuntu 2336393 May 25 10:51 val.pkl\r\n",
      "-rw-rw-r-- 1 ubuntu ubuntu 2146163 May 25 10:51 train.pkl\r\n",
      "-rw-rw-r-- 1 ubuntu ubuntu 2632817 May 25 10:51 test.pkl\r\n"
     ]
    }
   ],
   "source": [
    "!ls -ltr output"
   ]
  },
  {
   "cell_type": "markdown",
   "id": "9785e0fd",
   "metadata": {},
   "source": [
    "> Answer: 154 KB"
   ]
  },
  {
   "cell_type": "markdown",
   "id": "2afd4de8",
   "metadata": {},
   "source": [
    "# Q3. Train a model with autolog"
   ]
  },
  {
   "cell_type": "code",
   "execution_count": 74,
   "id": "3f9f5ad8",
   "metadata": {},
   "outputs": [
    {
     "name": "stdout",
     "output_type": "stream",
     "text": [
      "import os\r\n",
      "import pickle\r\n",
      "import click\r\n",
      "\r\n",
      "import argparse\r\n",
      "import mlflow\r\n",
      "\r\n",
      "from sklearn.ensemble import RandomForestRegressor\r\n",
      "from sklearn.metrics import mean_squared_error\r\n",
      "\r\n",
      "\r\n",
      "def load_pickle(filename: str):\r\n",
      "    with open(filename, \"rb\") as f_in:\r\n",
      "        return pickle.load(f_in)\r\n",
      "\r\n",
      "# @click.command()\r\n",
      "# @click.option(\r\n",
      "#     \"--data_path\",\r\n",
      "#     default=\"./output\",\r\n",
      "#     help=\"Location where the processed NYC taxi trip data was saved\"\r\n",
      "# )\r\n",
      "\r\n",
      "\r\n",
      "def run_train(data_path: str):\r\n",
      "\r\n",
      "    # start mlflow\r\n",
      "    with mlflow.start_run():\r\n",
      "        # use autolog\r\n",
      "        mlflow.sklearn.autolog()\r\n",
      "\r\n",
      "        X_train, y_train = load_pickle(os.path.join(data_path, \"train.pkl\"))\r\n",
      "        X_val, y_val = load_pickle(os.path.join(data_path, \"val.pkl\"))\r\n",
      "\r\n",
      "        rf = RandomForestRegressor(max_depth=10, random_state=0)\r\n",
      "        rf.fit(X_train, y_train)\r\n",
      "        y_pred = rf.predict(X_val)\r\n",
      "\r\n",
      "        rmse = mean_squared_error(y_val, y_pred, squared=False)\r\n",
      "\r\n",
      "\r\n",
      "if __name__ == '__main__':\r\n",
      "\r\n",
      "    # Setting the tracking_uri for mlflow\r\n",
      "    mlflow.set_tracking_uri(\"sqlite:///mlflow.db\")\r\n",
      "\r\n",
      "    # Create a new experiment for green_taxi\r\n",
      "    mlflow.set_experiment(\"green-taxi_experiment\")\r\n",
      "\r\n",
      "    parser = argparse.ArgumentParser()\r\n",
      "    parser.add_argument(\r\n",
      "        \"--data_path\",\r\n",
      "        default=\"./output\",\r\n",
      "        help=\"the location where the processed NYC taxi trip data was saved.\"\r\n",
      "    )\r\n",
      "    args = parser.parse_args()\r\n",
      "\r\n",
      "    run_train(args.data_path)\r\n",
      "\r\n",
      "    # run_train()\r\n"
     ]
    }
   ],
   "source": [
    "# Modified `train.py`\n",
    "!cat train.py"
   ]
  },
  {
   "cell_type": "code",
   "execution_count": 30,
   "id": "77b8aa12",
   "metadata": {},
   "outputs": [
    {
     "name": "stdout",
     "output_type": "stream",
     "text": [
      "2023/05/25 11:50:12 INFO mlflow.tracking.fluent: Experiment with name 'green-taxi_experiment' does not exist. Creating a new experiment.\n",
      "2023/05/25 11:50:26 WARNING mlflow.utils.autologging_utils: MLflow autologging encountered a warning: \"/home/ubuntu/anaconda3/envs/exp-tracking-env/lib/python3.9/site-packages/_distutils_hack/__init__.py:33: UserWarning: Setuptools is replacing distutils.\"\n"
     ]
    }
   ],
   "source": [
    "!python train.py"
   ]
  },
  {
   "cell_type": "code",
   "execution_count": 31,
   "id": "490b894a",
   "metadata": {},
   "outputs": [
    {
     "name": "stderr",
     "output_type": "stream",
     "text": [
      "INFO  [alembic.runtime.migration] Context impl SQLiteImpl.\n",
      "INFO  [alembic.runtime.migration] Will assume non-transactional DDL.\n"
     ]
    }
   ],
   "source": [
    "from mlflow.tracking import MlflowClient\n",
    "\n",
    "# TRACKING_URI = \"sqlite:///..//mlflow.db\"\n",
    "TRACKING_URI = \"sqlite:///mlflow.db\"\n",
    "\n",
    "client = MlflowClient(tracking_uri=TRACKING_URI)"
   ]
  },
  {
   "cell_type": "code",
   "execution_count": 32,
   "id": "4bf402d6",
   "metadata": {},
   "outputs": [
    {
     "data": {
      "text/plain": [
       "[<Experiment: artifact_location='/home/ubuntu/mlops-zoomcamp/cohorts/2023/02-experiment-tracking/homework/mlruns/1', creation_time=1685015412880, experiment_id='1', last_update_time=1685015412880, lifecycle_stage='active', name='green-taxi_experiment', tags={}>,\n",
       " <Experiment: artifact_location='mlflow-artifacts:/0', creation_time=1685013002876, experiment_id='0', last_update_time=1685013002876, lifecycle_stage='active', name='Default', tags={}>]"
      ]
     },
     "execution_count": 32,
     "metadata": {},
     "output_type": "execute_result"
    }
   ],
   "source": [
    "\n",
    "client.search_experiments()"
   ]
  },
  {
   "cell_type": "code",
   "execution_count": 33,
   "id": "77814735",
   "metadata": {},
   "outputs": [
    {
     "data": {
      "text/plain": [
       "[<Run: data=<RunData: metrics={'training_mean_absolute_error': 1.4846553814437824,\n",
       "  'training_mean_squared_error': 3.785599387209934,\n",
       "  'training_r2_score': 0.2905920668431764,\n",
       "  'training_root_mean_squared_error': 1.9456616836464489,\n",
       "  'training_score': 0.2905920668431764}, params={'bootstrap': 'True',\n",
       "  'ccp_alpha': '0.0',\n",
       "  'criterion': 'squared_error',\n",
       "  'max_depth': '10',\n",
       "  'max_features': '1.0',\n",
       "  'max_leaf_nodes': 'None',\n",
       "  'max_samples': 'None',\n",
       "  'min_impurity_decrease': '0.0',\n",
       "  'min_samples_leaf': '1',\n",
       "  'min_samples_split': '2',\n",
       "  'min_weight_fraction_leaf': '0.0',\n",
       "  'n_estimators': '100',\n",
       "  'n_jobs': 'None',\n",
       "  'oob_score': 'False',\n",
       "  'random_state': '0',\n",
       "  'verbose': '0',\n",
       "  'warm_start': 'False'}, tags={'estimator_class': 'sklearn.ensemble._forest.RandomForestRegressor',\n",
       "  'estimator_name': 'RandomForestRegressor',\n",
       "  'mlflow.log-model.history': '[{\"run_id\": \"36be14d49c284d1d9e170b4e93be26ca\", '\n",
       "                              '\"artifact_path\": \"model\", \"utc_time_created\": '\n",
       "                              '\"2023-05-25 11:50:24.006552\", \"flavors\": '\n",
       "                              '{\"python_function\": {\"model_path\": \"model.pkl\", '\n",
       "                              '\"predict_fn\": \"predict\", \"loader_module\": '\n",
       "                              '\"mlflow.sklearn\", \"python_version\": \"3.9.16\", '\n",
       "                              '\"env\": {\"conda\": \"conda.yaml\", \"virtualenv\": '\n",
       "                              '\"python_env.yaml\"}}, \"sklearn\": '\n",
       "                              '{\"pickled_model\": \"model.pkl\", '\n",
       "                              '\"sklearn_version\": \"1.2.2\", '\n",
       "                              '\"serialization_format\": \"cloudpickle\", \"code\": '\n",
       "                              'null}}, \"model_uuid\": '\n",
       "                              '\"9ce171b716be4bc98a70ab32e44ac6e9\", '\n",
       "                              '\"mlflow_version\": \"2.3.2\", \"signature\": '\n",
       "                              '{\"inputs\": \"[{\\\\\"type\\\\\": \\\\\"tensor\\\\\", '\n",
       "                              '\\\\\"tensor-spec\\\\\": {\\\\\"dtype\\\\\": \\\\\"float64\\\\\", '\n",
       "                              '\\\\\"shape\\\\\": [-1, 6683]}}]\", \"outputs\": '\n",
       "                              '\"[{\\\\\"type\\\\\": \\\\\"tensor\\\\\", \\\\\"tensor-spec\\\\\": '\n",
       "                              '{\\\\\"dtype\\\\\": \\\\\"float64\\\\\", \\\\\"shape\\\\\": '\n",
       "                              '[-1]}}]\"}}]',\n",
       "  'mlflow.runName': 'mysterious-snail-774',\n",
       "  'mlflow.source.git.commit': '24b56defe992663a53a293281bffb8440a23482b',\n",
       "  'mlflow.source.name': 'train.py',\n",
       "  'mlflow.source.type': 'LOCAL',\n",
       "  'mlflow.user': 'ubuntu'}>, info=<RunInfo: artifact_uri='/home/ubuntu/mlops-zoomcamp/cohorts/2023/02-experiment-tracking/homework/mlruns/1/36be14d49c284d1d9e170b4e93be26ca/artifacts', end_time=1685015426989, experiment_id='1', lifecycle_stage='active', run_id='36be14d49c284d1d9e170b4e93be26ca', run_name='mysterious-snail-774', run_uuid='36be14d49c284d1d9e170b4e93be26ca', start_time=1685015412964, status='FINISHED', user_id='ubuntu'>>]"
      ]
     },
     "execution_count": 33,
     "metadata": {},
     "output_type": "execute_result"
    }
   ],
   "source": [
    "client.search_runs(experiment_ids=1)"
   ]
  },
  {
   "cell_type": "code",
   "execution_count": 34,
   "id": "d27cdbbb",
   "metadata": {},
   "outputs": [],
   "source": [
    "run_id = '36be14d49c284d1d9e170b4e93be26ca'\n",
    "run = client.get_run(run_id=run_id)"
   ]
  },
  {
   "cell_type": "code",
   "execution_count": 35,
   "id": "d651522d",
   "metadata": {},
   "outputs": [
    {
     "data": {
      "text/plain": [
       "{'bootstrap': 'True',\n",
       " 'ccp_alpha': '0.0',\n",
       " 'criterion': 'squared_error',\n",
       " 'max_depth': '10',\n",
       " 'max_features': '1.0',\n",
       " 'max_leaf_nodes': 'None',\n",
       " 'max_samples': 'None',\n",
       " 'min_impurity_decrease': '0.0',\n",
       " 'min_samples_leaf': '1',\n",
       " 'min_samples_split': '2',\n",
       " 'min_weight_fraction_leaf': '0.0',\n",
       " 'n_estimators': '100',\n",
       " 'n_jobs': 'None',\n",
       " 'oob_score': 'False',\n",
       " 'random_state': '0',\n",
       " 'verbose': '0',\n",
       " 'warm_start': 'False'}"
      ]
     },
     "execution_count": 35,
     "metadata": {},
     "output_type": "execute_result"
    }
   ],
   "source": [
    "run.data.params"
   ]
  },
  {
   "cell_type": "markdown",
   "id": "8819067d",
   "metadata": {},
   "source": [
    "> Answer: max_depth = 10"
   ]
  },
  {
   "cell_type": "markdown",
   "id": "a4faffde",
   "metadata": {},
   "source": [
    "# Q4. Tune hyperparameters"
   ]
  },
  {
   "cell_type": "markdown",
   "id": "2caad4ae",
   "metadata": {},
   "source": [
    "Now let's try to reduce the validation error by tuning the hyperparameters of the RandomForestRegressor using optuna. We have prepared the script hpo.py for this exercise.\n",
    "\n",
    "Your task is to modify the script hpo.py and make sure that the validation RMSE is logged to the tracking server for each run of the hyperparameter optimization (you will need to add a few lines of code to the objective function) and run the script without passing any parameters.\n",
    "\n",
    "After that, open UI and explore the runs from the experiment called random-forest-hyperopt to answer the question below."
   ]
  },
  {
   "cell_type": "markdown",
   "id": "014163b6",
   "metadata": {},
   "source": [
    "The idea is to just log the information that you need to answer the question below, including:\n",
    "\n",
    "the list of hyperparameters that are passed to the objective function during the optimization,\n",
    "the RMSE obtained on the validation set (February 2022 data).\n",
    "What's the best validation RMSE that you got?\n",
    "\n",
    "- 1.85  \n",
    "- 2.15  \n",
    "- 2.45  \n",
    "- 2.85  "
   ]
  },
  {
   "cell_type": "code",
   "execution_count": 43,
   "id": "81bed3e0",
   "metadata": {},
   "outputs": [
    {
     "name": "stdout",
     "output_type": "stream",
     "text": [
      "import os\r\n",
      "import pickle\r\n",
      "import click\r\n",
      "import mlflow\r\n",
      "import optuna\r\n",
      "\r\n",
      "from optuna.samplers import TPESampler\r\n",
      "from sklearn.ensemble import RandomForestRegressor\r\n",
      "from sklearn.metrics import mean_squared_error\r\n",
      "\r\n",
      "import argparse\r\n",
      "\r\n",
      "mlflow.set_tracking_uri(\"http://127.0.0.1:5000\")\r\n",
      "mlflow.set_experiment(\"random-forest-hyperopt\")\r\n",
      "\r\n",
      "\r\n",
      "def load_pickle(filename):\r\n",
      "    with open(filename, \"rb\") as f_in:\r\n",
      "        return pickle.load(f_in)\r\n",
      "\r\n",
      "\r\n",
      "# @click.command()\r\n",
      "# @click.option(\r\n",
      "#     \"--data_path\",\r\n",
      "#     default=\"./output\",\r\n",
      "#     help=\"Location where the processed NYC taxi trip data was saved\"\r\n",
      "# )\r\n",
      "# @click.option(\r\n",
      "#     \"--num_trials\",\r\n",
      "#     default=10,\r\n",
      "#     help=\"The number of parameter evaluations for the optimizer to explore\"\r\n",
      "# )\r\n",
      "\r\n",
      "def run_optimization(data_path: str = \"./output\", num_trials: int = 10):\r\n",
      "\r\n",
      "    X_train, y_train = load_pickle(os.path.join(data_path, \"train.pkl\"))\r\n",
      "    X_val, y_val = load_pickle(os.path.join(data_path, \"val.pkl\"))\r\n",
      "\r\n",
      "    def objective(trial):\r\n",
      "        params = {\r\n",
      "            'n_estimators': trial.suggest_int('n_estimators', 10, 50, 1),\r\n",
      "            'max_depth': trial.suggest_int('max_depth', 1, 20, 1),\r\n",
      "            'min_samples_split': trial.suggest_int('min_samples_split', 2, 10, 1),\r\n",
      "            'min_samples_leaf': trial.suggest_int('min_samples_leaf', 1, 4, 1),\r\n",
      "            'random_state': 42,\r\n",
      "            'n_jobs': -1\r\n",
      "        }\r\n",
      "\r\n",
      "        rf = RandomForestRegressor(**params)\r\n",
      "        rf.fit(X_train, y_train)\r\n",
      "        y_pred = rf.predict(X_val)\r\n",
      "        rmse = mean_squared_error(y_val, y_pred, squared=False)\r\n",
      "\r\n",
      "        # Log hyperparameters and validation RMSE to MLflow\r\n",
      "        with mlflow.start_run():\r\n",
      "            mlflow.log_params(params)\r\n",
      "            mlflow.log_metric(\"validation_rmse\", rmse)\r\n",
      "\r\n",
      "        return rmse\r\n",
      "\r\n",
      "    sampler = TPESampler(seed=42)\r\n",
      "    study = optuna.create_study(direction=\"minimize\", sampler=sampler)\r\n",
      "    study.optimize(objective, n_trials=num_trials)\r\n",
      "\r\n",
      "\r\n",
      "if __name__ == '__main__':\r\n",
      "    run_optimization()\r\n"
     ]
    }
   ],
   "source": [
    "# modified script to enable mlflow logging\n",
    "!cat hpo.py"
   ]
  },
  {
   "cell_type": "code",
   "execution_count": 44,
   "id": "aeb7752a",
   "metadata": {},
   "outputs": [],
   "source": [
    "# !pip install optuna"
   ]
  },
  {
   "cell_type": "code",
   "execution_count": 45,
   "id": "68c61f67",
   "metadata": {},
   "outputs": [
    {
     "name": "stdout",
     "output_type": "stream",
     "text": [
      "\u001b[32m[I 2023-05-25 12:52:35,974]\u001b[0m A new study created in memory with name: no-name-c260b847-f7f2-4d17-aada-4b6610d8b3e3\u001b[0m\n",
      "\u001b[32m[I 2023-05-25 12:52:38,279]\u001b[0m Trial 0 finished with value: 2.451379690825458 and parameters: {'n_estimators': 25, 'max_depth': 20, 'min_samples_split': 8, 'min_samples_leaf': 3}. Best is trial 0 with value: 2.451379690825458.\u001b[0m\n",
      "\u001b[32m[I 2023-05-25 12:52:38,535]\u001b[0m Trial 1 finished with value: 2.4667366020368333 and parameters: {'n_estimators': 16, 'max_depth': 4, 'min_samples_split': 2, 'min_samples_leaf': 4}. Best is trial 0 with value: 2.451379690825458.\u001b[0m\n",
      "\u001b[32m[I 2023-05-25 12:52:40,639]\u001b[0m Trial 2 finished with value: 2.449827329704216 and parameters: {'n_estimators': 34, 'max_depth': 15, 'min_samples_split': 2, 'min_samples_leaf': 4}. Best is trial 2 with value: 2.449827329704216.\u001b[0m\n",
      "\u001b[32m[I 2023-05-25 12:52:41,251]\u001b[0m Trial 3 finished with value: 2.460983516558473 and parameters: {'n_estimators': 44, 'max_depth': 5, 'min_samples_split': 3, 'min_samples_leaf': 1}. Best is trial 2 with value: 2.449827329704216.\u001b[0m\n",
      "\u001b[32m[I 2023-05-25 12:52:42,116]\u001b[0m Trial 4 finished with value: 2.453877262701052 and parameters: {'n_estimators': 22, 'max_depth': 11, 'min_samples_split': 5, 'min_samples_leaf': 2}. Best is trial 2 with value: 2.449827329704216.\u001b[0m\n",
      "\u001b[32m[I 2023-05-25 12:52:42,455]\u001b[0m Trial 5 finished with value: 2.4720122094960733 and parameters: {'n_estimators': 35, 'max_depth': 3, 'min_samples_split': 4, 'min_samples_leaf': 2}. Best is trial 2 with value: 2.449827329704216.\u001b[0m\n",
      "\u001b[32m[I 2023-05-25 12:52:44,292]\u001b[0m Trial 6 finished with value: 2.4516421799356767 and parameters: {'n_estimators': 28, 'max_depth': 16, 'min_samples_split': 3, 'min_samples_leaf': 3}. Best is trial 2 with value: 2.449827329704216.\u001b[0m\n",
      "\u001b[32m[I 2023-05-25 12:52:44,485]\u001b[0m Trial 7 finished with value: 2.5374040268274087 and parameters: {'n_estimators': 34, 'max_depth': 1, 'min_samples_split': 7, 'min_samples_leaf': 1}. Best is trial 2 with value: 2.449827329704216.\u001b[0m\n",
      "\u001b[32m[I 2023-05-25 12:52:45,462]\u001b[0m Trial 8 finished with value: 2.455971238567075 and parameters: {'n_estimators': 12, 'max_depth': 19, 'min_samples_split': 10, 'min_samples_leaf': 4}. Best is trial 2 with value: 2.449827329704216.\u001b[0m\n",
      "\u001b[32m[I 2023-05-25 12:52:45,661]\u001b[0m Trial 9 finished with value: 2.486106021576535 and parameters: {'n_estimators': 22, 'max_depth': 2, 'min_samples_split': 8, 'min_samples_leaf': 2}. Best is trial 2 with value: 2.449827329704216.\u001b[0m\n"
     ]
    }
   ],
   "source": [
    "# run the script\n",
    "!python hpo.py"
   ]
  },
  {
   "cell_type": "code",
   "execution_count": 46,
   "id": "60e79f0f",
   "metadata": {},
   "outputs": [
    {
     "data": {
      "text/plain": [
       "[<Experiment: artifact_location='mlflow-artifacts:/2', creation_time=1685018964797, experiment_id='2', last_update_time=1685018964797, lifecycle_stage='active', name='random-forest-hyperopt', tags={}>,\n",
       " <Experiment: artifact_location='/home/ubuntu/mlops-zoomcamp/cohorts/2023/02-experiment-tracking/homework/mlruns/1', creation_time=1685015412880, experiment_id='1', last_update_time=1685015412880, lifecycle_stage='active', name='green-taxi_experiment', tags={}>,\n",
       " <Experiment: artifact_location='mlflow-artifacts:/0', creation_time=1685013002876, experiment_id='0', last_update_time=1685013002876, lifecycle_stage='active', name='Default', tags={}>]"
      ]
     },
     "execution_count": 46,
     "metadata": {},
     "output_type": "execute_result"
    }
   ],
   "source": [
    "client.search_experiments()"
   ]
  },
  {
   "cell_type": "code",
   "execution_count": 47,
   "id": "7d7ad0f0",
   "metadata": {},
   "outputs": [],
   "source": [
    "best_runs = client.search_runs(\n",
    "    experiment_ids=2,\n",
    "    filter_string=\"\",\n",
    "    max_results=3,\n",
    "    order_by=[\"metrics.rmse ASC\"]\n",
    ")"
   ]
  },
  {
   "cell_type": "code",
   "execution_count": 49,
   "id": "8999efee",
   "metadata": {},
   "outputs": [
    {
     "name": "stdout",
     "output_type": "stream",
     "text": [
      "run id: 658d2d7e3f694a16ad6805ddfcb506a2, rmse: 2.4861\n",
      "run id: 994f24556b094542b280fa5655963614, rmse: 2.4560\n",
      "run id: 1fa54aaea30b43219fc2132f38008d24, rmse: 2.5374\n"
     ]
    }
   ],
   "source": [
    "\n",
    "for run in best_runs:\n",
    "    print(f\"run id: {run.info.run_id}, rmse: {run.data.metrics['validation_rmse']:.4f}\")"
   ]
  },
  {
   "cell_type": "markdown",
   "id": "f385246c",
   "metadata": {},
   "source": [
    "> Answer: Best validation RMSE = 2.45"
   ]
  },
  {
   "cell_type": "markdown",
   "id": "adc9e5e7",
   "metadata": {},
   "source": [
    "## Q5. Promote the best model to the model registry"
   ]
  },
  {
   "cell_type": "code",
   "execution_count": 80,
   "id": "6209853f",
   "metadata": {},
   "outputs": [
    {
     "name": "stdout",
     "output_type": "stream",
     "text": [
      "import os\r\n",
      "import pickle\r\n",
      "import click\r\n",
      "import mlflow\r\n",
      "import argparse\r\n",
      "\r\n",
      "from mlflow.entities import ViewType\r\n",
      "from mlflow.tracking import MlflowClient\r\n",
      "from sklearn.ensemble import RandomForestRegressor\r\n",
      "from sklearn.metrics import mean_squared_error\r\n",
      "\r\n",
      "from hyperopt import hp, space_eval\r\n",
      "from hyperopt.pyll import scope\r\n",
      "\r\n",
      "# Define the names of the experiments in the MLflow tracking server\r\n",
      "HPO_EXPERIMENT_NAME = \"random-forest-hyperopt\"\r\n",
      "EXPERIMENT_NAME = \"random-forest-best-models\"\r\n",
      "\r\n",
      "# Define the hyperparameters for the RandomForestRegressor model\r\n",
      "RF_PARAMS = ['max_depth', 'n_estimators', 'min_samples_split', 'min_samples_leaf', 'random_state', 'n_jobs']\r\n",
      "\r\n",
      "# Set the tracking URI and the experiment name for MLflow\r\n",
      "mlflow.set_tracking_uri(\"http://127.0.0.1:5000\")\r\n",
      "mlflow.set_experiment(EXPERIMENT_NAME)\r\n",
      "mlflow.sklearn.autolog()\r\n",
      "\r\n",
      "\r\n",
      "def load_pickle(filename):\r\n",
      "    \"\"\"Utility function to load pickled data from a file\"\"\"\r\n",
      "    with open(filename, \"rb\") as f_in:\r\n",
      "        return pickle.load(f_in)\r\n",
      "\r\n",
      "\r\n",
      "def train_and_log_model(data_path, params):\r\n",
      "    \"\"\"Train the RandomForestRegressor model and log the metrics using MLflow\"\"\"\r\n",
      "    X_train, y_train = load_pickle(os.path.join(data_path, \"train.pkl\"))\r\n",
      "    X_val, y_val = load_pickle(os.path.join(data_path, \"val.pkl\"))\r\n",
      "    X_test, y_test = load_pickle(os.path.join(data_path, \"test.pkl\"))\r\n",
      "\r\n",
      "    with mlflow.start_run():\r\n",
      "        for param in RF_PARAMS:\r\n",
      "            params[param] = int(params[param])\r\n",
      "\r\n",
      "        rf = RandomForestRegressor(**params)\r\n",
      "        rf.fit(X_train, y_train)\r\n",
      "\r\n",
      "        # Evaluate model on the validation and test sets\r\n",
      "        val_rmse = mean_squared_error(y_val, rf.predict(X_val), squared=False)\r\n",
      "        mlflow.log_metric(\"val_rmse\", val_rmse)\r\n",
      "        test_rmse = mean_squared_error(y_test, rf.predict(X_test), squared=False)\r\n",
      "        mlflow.log_metric(\"test_rmse\", test_rmse)\r\n",
      "\r\n",
      "\r\n",
      "@click.command()\r\n",
      "@click.option(\r\n",
      "    \"--data_path\",\r\n",
      "    default=\"./output\",\r\n",
      "    help=\"Location where the processed NYC taxi trip data was saved\"\r\n",
      ")\r\n",
      "@click.option(\r\n",
      "    \"--top_n\",\r\n",
      "    default=5,\r\n",
      "    type=int,\r\n",
      "    help=\"Number of top models that need to be evaluated to decide which one to promote\"\r\n",
      ")\r\n",
      "\r\n",
      "\r\n",
      "def run_register_model(data_path: str, top_n: int):\r\n",
      "    \"\"\"Register the best model based on hyperparameter optimization runs\"\"\"\r\n",
      "\r\n",
      "    client = MlflowClient()\r\n",
      "\r\n",
      "    # Retrieve the top_n model runs and log the models\r\n",
      "    experiment = client.get_experiment_by_name(HPO_EXPERIMENT_NAME)\r\n",
      "    runs = client.search_runs(\r\n",
      "        experiment_ids=experiment.experiment_id,\r\n",
      "        run_view_type=ViewType.ACTIVE_ONLY,\r\n",
      "        max_results=top_n,\r\n",
      "        order_by=[\"metrics.rmse ASC\"]\r\n",
      "    )\r\n",
      "    for run in runs:\r\n",
      "        train_and_log_model(data_path=data_path, params=run.data.params)\r\n",
      "\r\n",
      "    # Select the model with the lowest test RMSE\r\n",
      "    experiment = client.get_experiment_by_name(EXPERIMENT_NAME)\r\n",
      "\r\n",
      "    best_run = client.search_runs(\r\n",
      "        experiment_ids=experiment.experiment_id,\r\n",
      "        run_view_type=ViewType.ACTIVE_ONLY,\r\n",
      "        max_results=1,\r\n",
      "        order_by=[\"metrics.test_rmse ASC\"]\r\n",
      "    )[0]    \r\n",
      "\r\n",
      "    # Register the best model\r\n",
      "    model_uri = f\"runs:/{best_run.info.run_id}/random-forest-model\"\r\n",
      "    model_name = \"random-forest-model\"\r\n",
      "    mlflow.register_model(model_uri, model_name)\r\n",
      "\r\n",
      "\r\n",
      "if __name__ == '__main__':\r\n",
      "    run_register_model()\r\n"
     ]
    }
   ],
   "source": [
    "# Modified register_model.py so that it selects the model with the lowest RMSE on the test set\n",
    "!cat register_model.py"
   ]
  },
  {
   "cell_type": "code",
   "execution_count": 76,
   "id": "03cdf5a8",
   "metadata": {},
   "outputs": [
    {
     "name": "stdout",
     "output_type": "stream",
     "text": [
      "2023/05/25 14:37:44 WARNING mlflow.utils.autologging_utils: MLflow autologging encountered a warning: \"/home/ubuntu/anaconda3/envs/exp-tracking-env/lib/python3.9/site-packages/_distutils_hack/__init__.py:33: UserWarning: Setuptools is replacing distutils.\"\n",
      "Registered model 'random-forest-model' already exists. Creating a new version of this model...\n",
      "2023/05/25 14:37:56 INFO mlflow.tracking._model_registry.client: Waiting up to 300 seconds for model version to finish creation. Model name: random-forest-model, version 5\n",
      "Created version '5' of model 'random-forest-model'.\n"
     ]
    }
   ],
   "source": [
    "!python register_model.py"
   ]
  },
  {
   "cell_type": "code",
   "execution_count": 81,
   "id": "c0a3d66c",
   "metadata": {},
   "outputs": [],
   "source": [
    "# get run_id from version 1 of 'greentaxi_regressor'\n",
    "\n",
    "version_1_run_id = client.get_model_version(name = \"random-forest-model\", version = 5).run_id\n",
    "run_ver1 = client.get_run(run_id=version_1_run_id)"
   ]
  },
  {
   "cell_type": "code",
   "execution_count": 82,
   "id": "e2ccad9d",
   "metadata": {},
   "outputs": [
    {
     "name": "stdout",
     "output_type": "stream",
     "text": [
      "Version 1 Test RMSE: 2.29\n"
     ]
    }
   ],
   "source": [
    "\n",
    "print(f\"Version 1 Test RMSE: {round(run_ver1.data.metrics['test_rmse'],2)}\")"
   ]
  },
  {
   "cell_type": "markdown",
   "id": "bdf8c930",
   "metadata": {},
   "source": [
    ">Answer: Best RMSE is 2.29. Closest answer in submission form is 2.185"
   ]
  },
  {
   "cell_type": "markdown",
   "id": "cd55d8ca",
   "metadata": {},
   "source": [
    "# Q6. Model metadata"
   ]
  },
  {
   "cell_type": "markdown",
   "id": "453790d1",
   "metadata": {},
   "source": [
    "Now explore your best model in the model registry using UI. What information does the model registry contain about each model?\n",
    "\n",
    "- Version number  \n",
    "- Source experiment  \n",
    "- Model signature  \n",
    "- All the above answers are correct  "
   ]
  },
  {
   "cell_type": "markdown",
   "id": "370b62ae",
   "metadata": {},
   "source": [
    "The only one I can see is the version number:"
   ]
  },
  {
   "attachments": {
    "Screenshot%202023-05-25%20at%2015.45.56.jpg": {
     "image/jpeg": "[encoded data removed]"
    }
   },
   "cell_type": "markdown",
   "id": "7b6a5af4",
   "metadata": {},
   "source": [
    "![Screenshot%202023-05-25%20at%2015.45.56.jpg](attachment:Screenshot%202023-05-25%20at%2015.45.56.jpg)"
   ]
  },
  {
   "cell_type": "markdown",
   "id": "be03edd3",
   "metadata": {},
   "source": [
    "> Answer: Version number"
   ]
  },
  {
   "cell_type": "code",
   "execution_count": null,
   "id": "12ae5aec",
   "metadata": {},
   "outputs": [],
   "source": []
  }
 ],
 "metadata": {
  "kernelspec": {
   "display_name": "Python 3 (ipykernel)",
   "language": "python",
   "name": "python3"
  },
  "language_info": {
   "codemirror_mode": {
    "name": "ipython",
    "version": 3
   },
   "file_extension": ".py",
   "mimetype": "text/x-python",
   "name": "python",
   "nbconvert_exporter": "python",
   "pygments_lexer": "ipython3",
   "version": "3.9.16"
  }
 },
 "nbformat": 4,
 "nbformat_minor": 5
}
