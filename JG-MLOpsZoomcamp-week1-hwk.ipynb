{
 "cells": [
  {
   "cell_type": "markdown",
   "id": "1179d963",
   "metadata": {},
   "source": [
    "# Set up"
   ]
  },
  {
   "cell_type": "code",
   "execution_count": 1,
   "id": "18628dc2",
   "metadata": {},
   "outputs": [
    {
     "name": "stdout",
     "output_type": "stream",
     "text": [
      "Python 3.10.9\r\n"
     ]
    }
   ],
   "source": [
    "!python -V"
   ]
  },
  {
   "cell_type": "code",
   "execution_count": 2,
   "id": "485b71bb",
   "metadata": {},
   "outputs": [],
   "source": [
    "import pandas as pd"
   ]
  },
  {
   "cell_type": "code",
   "execution_count": 4,
   "id": "d6f39fd9",
   "metadata": {},
   "outputs": [],
   "source": [
    "from sklearn.feature_extraction import DictVectorizer\n",
    "from sklearn.linear_model import LinearRegression\n",
    "from sklearn.metrics import mean_squared_error"
   ]
  },
  {
   "cell_type": "code",
   "execution_count": 68,
   "id": "f2762d5e",
   "metadata": {},
   "outputs": [],
   "source": [
    "def read_dataframe(filename):\n",
    "    if filename.endswith('.csv'):\n",
    "        df = pd.read_csv(filename)\n",
    "\n",
    "        df.lpep_dropoff_datetime = pd.to_datetime(df.tpep_dropoff_datetime)\n",
    "        df.lpep_pickup_datetime = pd.to_datetime(df.tpep_pickup_datetime)\n",
    "    elif filename.endswith('.parquet'):\n",
    "        df = pd.read_parquet(filename)\n",
    "\n",
    "#     df['duration'] = df.tpep_dropoff_datetime - df.tpep_pickup_datetime\n",
    "#     df.duration = df.duration.apply(lambda td: td.total_seconds() / 60)\n",
    "\n",
    "#     df = df[(df.duration >= 1) & (df.duration <= 60)]\n",
    "\n",
    "    categorical = ['PULocationID', 'DOLocationID']\n",
    "    df[categorical] = df[categorical].astype(str)\n",
    "    \n",
    "    return df"
   ]
  },
  {
   "cell_type": "code",
   "execution_count": 69,
   "id": "23e44e10",
   "metadata": {},
   "outputs": [],
   "source": [
    "df_train = read_dataframe('./data/yellow_tripdata_2022-01.parquet')\n",
    "df_val = read_dataframe('./data/yellow_tripdata_2022-02.parquet')"
   ]
  },
  {
   "cell_type": "code",
   "execution_count": 70,
   "id": "cad708ac",
   "metadata": {},
   "outputs": [
    {
     "data": {
      "text/plain": [
       "(2463931, 2979431)"
      ]
     },
     "execution_count": 70,
     "metadata": {},
     "output_type": "execute_result"
    }
   ],
   "source": [
    "len(df_train), len(df_val)"
   ]
  },
  {
   "cell_type": "markdown",
   "id": "4e754eb0",
   "metadata": {},
   "source": [
    "# Q1 - how many columns in January data?"
   ]
  },
  {
   "cell_type": "code",
   "execution_count": 71,
   "id": "424222bf",
   "metadata": {},
   "outputs": [
    {
     "data": {
      "text/plain": [
       "19"
      ]
     },
     "execution_count": 71,
     "metadata": {},
     "output_type": "execute_result"
    }
   ],
   "source": [
    "df_train.shape[1]"
   ]
  },
  {
   "cell_type": "markdown",
   "id": "48282acd",
   "metadata": {},
   "source": [
    "# Q2 - Compute duration variable and find standard deviation"
   ]
  },
  {
   "cell_type": "code",
   "execution_count": 72,
   "id": "19fd473b",
   "metadata": {},
   "outputs": [],
   "source": [
    "def add_duration_column(df):\n",
    "    df['duration'] = df.tpep_dropoff_datetime - df.tpep_pickup_datetime\n",
    "    df['duration'] = df['duration'].apply(lambda td: td.total_seconds() / 60)\n",
    "#     df = df[(df['duration'] >= 1) & (df['duration'] <= 60)]\n",
    "    return df\n",
    "\n",
    "df_train = add_duration_column(df_train)\n",
    "df_val = add_duration_column(df_val)\n"
   ]
  },
  {
   "cell_type": "code",
   "execution_count": 73,
   "id": "0920f64c",
   "metadata": {},
   "outputs": [
    {
     "data": {
      "text/plain": [
       "46.44530513776499"
      ]
     },
     "execution_count": 73,
     "metadata": {},
     "output_type": "execute_result"
    }
   ],
   "source": [
    "df_train['duration'].std()"
   ]
  },
  {
   "cell_type": "markdown",
   "id": "236cfaed",
   "metadata": {},
   "source": [
    "# Q3 - dropping outliers; find fraction of records left"
   ]
  },
  {
   "cell_type": "code",
   "execution_count": 74,
   "id": "90e12fba",
   "metadata": {},
   "outputs": [],
   "source": [
    "def remove_outliers(df):\n",
    "    df = df[(df['duration'] >= 1) & (df['duration'] <= 60)]\n",
    "    return df\n",
    "\n",
    "df_train = remove_outliers(df_train)\n",
    "df_val = remove_outliers(df_val)"
   ]
  },
  {
   "cell_type": "code",
   "execution_count": 75,
   "id": "f54d054a",
   "metadata": {},
   "outputs": [
    {
     "data": {
      "text/plain": [
       "0.9827547930522406"
      ]
     },
     "execution_count": 75,
     "metadata": {},
     "output_type": "execute_result"
    }
   ],
   "source": [
    "len(df_train) / 2463931"
   ]
  },
  {
   "cell_type": "markdown",
   "id": "e047a52b",
   "metadata": {},
   "source": [
    "# Q4 - one hot encoding; find dimensionality of new matrix"
   ]
  },
  {
   "cell_type": "code",
   "execution_count": 76,
   "id": "1c21e913",
   "metadata": {},
   "outputs": [],
   "source": [
    "categorical = ['PULocationID', 'DOLocationID']\n",
    "numerical = [] # ['trip_distance']\n",
    "\n",
    "dv = DictVectorizer()\n",
    "\n",
    "train_dicts = df_train[categorical + numerical].to_dict(orient='records')\n",
    "X_train = dv.fit_transform(train_dicts)\n",
    "\n",
    "val_dicts = df_val[categorical + numerical].to_dict(orient='records')\n",
    "X_val = dv.transform(val_dicts)"
   ]
  },
  {
   "cell_type": "code",
   "execution_count": 78,
   "id": "e324feef",
   "metadata": {},
   "outputs": [
    {
     "data": {
      "text/plain": [
       "(2421440, 515)"
      ]
     },
     "execution_count": 78,
     "metadata": {},
     "output_type": "execute_result"
    }
   ],
   "source": [
    "X_train.shape"
   ]
  },
  {
   "cell_type": "markdown",
   "id": "de99483a",
   "metadata": {},
   "source": [
    "# Q5 - Training model; find RMSE on training set"
   ]
  },
  {
   "cell_type": "code",
   "execution_count": 79,
   "id": "a308744e",
   "metadata": {},
   "outputs": [],
   "source": [
    "target = 'duration'\n",
    "y_train = df_train[target].values\n",
    "y_val = df_val[target].values"
   ]
  },
  {
   "cell_type": "code",
   "execution_count": 80,
   "id": "8e429589",
   "metadata": {},
   "outputs": [
    {
     "data": {
      "text/plain": [
       "6.986190836477672"
      ]
     },
     "execution_count": 80,
     "metadata": {},
     "output_type": "execute_result"
    }
   ],
   "source": [
    "lr = LinearRegression()\n",
    "lr.fit(X_train, y_train)\n",
    "\n",
    "y_pred = lr.predict(X_train)\n",
    "\n",
    "mean_squared_error(y_train, y_pred, squared=False)"
   ]
  },
  {
   "cell_type": "markdown",
   "id": "18815c4a",
   "metadata": {},
   "source": [
    "# Q6 - evaluate model on validation set"
   ]
  },
  {
   "cell_type": "code",
   "execution_count": 81,
   "id": "a67bbe32",
   "metadata": {},
   "outputs": [
    {
     "data": {
      "text/plain": [
       "7.78640879016696"
      ]
     },
     "execution_count": 81,
     "metadata": {},
     "output_type": "execute_result"
    }
   ],
   "source": [
    "y_pred = lr.predict(X_val)\n",
    "\n",
    "mean_squared_error(y_val, y_pred, squared=False)"
   ]
  },
  {
   "cell_type": "code",
   "execution_count": null,
   "id": "7d2702e6",
   "metadata": {},
   "outputs": [],
   "source": []
  }
 ],
 "metadata": {
  "kernelspec": {
   "display_name": "Python 3 (ipykernel)",
   "language": "python",
   "name": "python3"
  },
  "language_info": {
   "codemirror_mode": {
    "name": "ipython",
    "version": 3
   },
   "file_extension": ".py",
   "mimetype": "text/x-python",
   "name": "python",
   "nbconvert_exporter": "python",
   "pygments_lexer": "ipython3",
   "version": "3.10.9"
  }
 },
 "nbformat": 4,
 "nbformat_minor": 5
}
